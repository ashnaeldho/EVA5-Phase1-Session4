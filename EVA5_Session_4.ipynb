{
  "nbformat": 4,
  "nbformat_minor": 0,
  "metadata": {
    "colab": {
      "name": "EVA5 - Session 4.ipynb",
      "provenance": [],
      "collapsed_sections": [],
      "include_colab_link": true
    },
    "kernelspec": {
      "name": "python3",
      "display_name": "Python 3"
    },
    "accelerator": "GPU"
  },
  "cells": [
    {
      "cell_type": "markdown",
      "metadata": {
        "id": "view-in-github",
        "colab_type": "text"
      },
      "source": [
        "<a href=\"https://colab.research.google.com/github/ashnaeldho/EVA5-Phase1-Session4/blob/master/EVA5_Session_4.ipynb\" target=\"_parent\"><img src=\"https://colab.research.google.com/assets/colab-badge.svg\" alt=\"Open In Colab\"/></a>"
      ]
    },
    {
      "cell_type": "code",
      "metadata": {
        "id": "0m2JWFliFfKT",
        "colab_type": "code",
        "colab": {}
      },
      "source": [
        "from __future__ import print_function\n",
        "import torch\n",
        "import torch.nn as nn\n",
        "import torch.nn.functional as F\n",
        "import torch.optim as optim\n",
        "from torchvision import datasets, transforms"
      ],
      "execution_count": 1,
      "outputs": []
    },
    {
      "cell_type": "code",
      "metadata": {
        "id": "h_Cx9q2QFgM7",
        "colab_type": "code",
        "colab": {}
      },
      "source": [
        "'''\n",
        "class Net(nn.Module):\n",
        "    def __init__(self):\n",
        "        super(Net, self).__init__()\n",
        "        self.conv1 = nn.Conv2d(1, 32, 3, padding=1) #input -? OUtput? RF\n",
        "        nn.BatchNorm2d(32)\n",
        "        self.conv2 = nn.Conv2d(32, 64, 3, padding=1)\n",
        "        nn.BatchNorm2d(64)\n",
        "        nn.Dropout(0.25)\n",
        "        self.conv3 = nn.Conv2d(64, 128, 3, padding=1)\n",
        "        nn.BatchNorm2d(128)\n",
        "        nn.Dropout(0.25)\n",
        "        self.pool1 = nn.MaxPool2d(2, 2)\n",
        "        #self.conv4 = nn.Conv2d(128, 32, 1, padding=1)\n",
        "        #nn.BatchNorm2d(32)\n",
        "        self.conv5 = nn.Conv2d(32, 64, 3, padding=1)\n",
        "        nn.BatchNorm2d(64)\n",
        "        nn.Dropout(0.25)\n",
        "        self.pool2 = nn.MaxPool2d(2, 2)\n",
        "        self.conv6 = nn.Conv2d(64, 128, 3)\n",
        "        nn.BatchNorm2d(128)\n",
        "        self.conv7 = nn.Conv2d(128, 256, 3)\n",
        "        nn.BatchNorm2d(256)\n",
        "        nn.Dropout(0.25)\n",
        "        self.conv8 = nn.Conv2d(256, 10, 3)\n",
        "\n",
        "    def forward(self, x):\n",
        "        x = self.pool1(F.relu(self.conv3(F.relu(self.conv2(F.relu(self.conv1(x)))))\n",
        "        x = self.pool2(F.relu(self.conv5(F.relu(self.conv4(x)))))\n",
        "        #x = F.relu(self.conv4(x))\n",
        "        #x = self.pool2(F.relu(self.conv5(x)))\n",
        "        x = F.relu(self.conv7(F.relu(self.conv6(x))))\n",
        "        #x = F.relu(self.conv7(x))\n",
        "        x = self.conv8(x)\n",
        "        x = x.view(-1, 10)\n",
        "        return F.log_softmax(x)\n",
        "'''\n",
        "'''\n",
        "class Net(nn.Module):\n",
        "    def __init__(self):\n",
        "        super(Net, self).__init__()\n",
        "        self.conv1 = nn.Conv2d(1, 32, 3, padding=1) #input -? OUtput? RF\n",
        "        nn.BatchNorm2d(32)\n",
        "        self.conv2 = nn.Conv2d(32, 64, 3, padding=1)\n",
        "        nn.BatchNorm2d(64)\n",
        "        nn.Dropout(0.25)\n",
        "        self.pool1 = nn.MaxPool2d(2, 2)\n",
        "        self.conv3 = nn.Conv2d(64, 32, 1, padding=1)\n",
        "        nn.BatchNorm2d(32)\n",
        "        nn.Dropout(0.3)\n",
        "        self.conv4 = nn.Conv2d(32, 64, 3, padding=1)\n",
        "        nn.BatchNorm2d(32)\n",
        "        self.pool2 = nn.MaxPool2d(2, 2)\n",
        "        self.conv5 = nn.Conv2d(64, 32, 1)\n",
        "        nn.BatchNorm2d(32)\n",
        "        nn.Dropout(0.25)\n",
        "        self.conv6 = nn.Conv2d(32, 64, 3) # 512\n",
        "        nn.BatchNorm2d(64)\n",
        "        nn.Dropout(0.5)\n",
        "        self.conv7 = nn.Conv2d(64, 10, 3)\n",
        "\n",
        "    def forward(self, x):\n",
        "        x = self.pool1(F.relu(self.conv2(F.relu(self.conv1(x)))))\n",
        "        x = self.pool2(F.relu(self.conv4(F.relu(self.conv3(x)))))\n",
        "        x = F.relu(self.conv6(F.relu(self.conv5(x))))\n",
        "        x = (self.conv7(x))\n",
        "        x = x.view(-1, 10)\n",
        "        return F.log_softmax(x)        \n",
        "'''        \n",
        "'''\n",
        "class Net(nn.Module):\n",
        "    def __init__(self):\n",
        "        super(Net, self).__init__()\n",
        "        self.conv1 = nn.Conv2d(1, 32, 3, padding=1) #input -? OUtput? RF\n",
        "        nn.BatchNorm2d(32)\n",
        "        self.conv2 = nn.Conv2d(32, 64, 3, padding=1)\n",
        "        nn.BatchNorm2d(32)\n",
        "        nn.Dropout(0.25)\n",
        "        self.pool1 = nn.MaxPool2d(2, 2)\n",
        "        self.conv3 = nn.Conv2d(64, 32, 1, padding=1)\n",
        "        nn.BatchNorm2d(32)\n",
        "        nn.Dropout(0.25)\n",
        "        self.conv4 = nn.Conv2d(32, 64, 3, padding=1)\n",
        "        nn.BatchNorm2d(64)\n",
        "        self.pool2 = nn.MaxPool2d(2, 2)\n",
        "        self.conv5 = nn.Conv2d(64, 32, 1)\n",
        "        nn.BatchNorm2d(32)\n",
        "        nn.Dropout(0.25)\n",
        "        self.conv6 = nn.Conv2d(32, 512, 3)\n",
        "        nn.BatchNorm2d(512)\n",
        "        nn.Dropout(0.25)\n",
        "        self.conv7 = nn.Conv2d(512, 10, 3)\n",
        "\n",
        "    def forward(self, x):\n",
        "        x = self.pool1(F.relu(self.conv2(F.relu(self.conv1(x)))))\n",
        "        x = self.pool2(F.relu(self.conv4(F.relu(self.conv3(x)))))\n",
        "        x = F.relu(self.conv6(F.relu(self.conv5(x))))\n",
        "        x = (self.conv7(x))\n",
        "        x = x.view(-1, 10)\n",
        "        return F.log_softmax(x) \n",
        "'''\n",
        "\n",
        "\n",
        "'''\n",
        "#######33 original code\n",
        "class Net(nn.Module):\n",
        "    def __init__(self):\n",
        "        super(Net, self).__init__()\n",
        "        self.conv1 = nn.Conv2d(1, 16, 3, padding=1) #input -? OUtput? RF\n",
        "        nn.BatchNorm2d(16)\n",
        "        self.conv2 = nn.Conv2d(16, 32, 3, padding=1)\n",
        "        nn.BatchNorm2d(32)\n",
        "        nn.Dropout(0.25)\n",
        "        self.pool1 = nn.MaxPool2d(2, 2)\n",
        "        self.conv3 = nn.Conv2d(32, 16, 3, padding=1)\n",
        "        nn.BatchNorm2d(16)\n",
        "        self.conv4 = nn.Conv2d(16, 32, 3, padding=1)\n",
        "        nn.BatchNorm2d(32)\n",
        "        self.pool2 = nn.MaxPool2d(2, 2)\n",
        "        nn.Dropout(0.25)\n",
        "        self.conv5 = nn.Conv2d(32, 8, 3)\n",
        "        nn.BatchNorm2d(8)\n",
        "        self.conv6 = nn.Conv2d(8, 16, 3)\n",
        "        nn.BatchNorm2d(16)\n",
        "        nn.Dropout(0.25)\n",
        "        self.conv7 = nn.Conv2d(16, 10, 3)\n",
        "\n",
        "    def forward(self, x):\n",
        "        x = self.pool1(F.relu(self.conv2(F.relu(self.conv1(x)))))\n",
        "        x = self.pool2(F.relu(self.conv4(F.relu(self.conv3(x)))))\n",
        "        x = F.relu(self.conv6(F.relu(self.conv5(x))))\n",
        "        x = (self.conv7(x))\n",
        "        x = x.view(-1, 10)\n",
        "        return F.log_softmax(x)\n",
        "   '''\n",
        "''' \n",
        "class Net(nn.Module):\n",
        "    def __init__(self):\n",
        "        super(Net, self).__init__()\n",
        "        self.conv1 = nn.Conv2d(1, 16, 3, padding=1) #input -? OUtput? RF\n",
        "        nn.BatchNorm2d(16)\n",
        "        self.conv2 = nn.Conv2d(16, 16, 3, padding=1)\n",
        "        nn.BatchNorm2d(16)\n",
        "        self.conv3 = nn.Conv2d(16, 32, 3, padding=1)\n",
        "        nn.BatchNorm2d(32)\n",
        "        nn.Dropout(0.25)\n",
        "        self.pool1 = nn.MaxPool2d(2, 2)\n",
        "        self.conv4 = nn.Conv2d(32, 16, 1, padding=1)\n",
        "        nn.BatchNorm2d(16)\n",
        "        self.conv5 = nn.Conv2d(16, 32, 3, padding=1)\n",
        "        nn.BatchNorm2d(32)\n",
        "        self.pool2 = nn.MaxPool2d(2, 2)\n",
        "        nn.Dropout(0.25)\n",
        "        self.conv6 = nn.Conv2d(32, 16, 1)\n",
        "        nn.BatchNorm2d(16)\n",
        "        self.conv7 = nn.Conv2d(16, 16, 3)\n",
        "        nn.BatchNorm2d(16)\n",
        "        nn.Dropout(0.25)\n",
        "        self.conv8 = nn.Conv2d(16, 10, 3)\n",
        "\n",
        "    def forward(self, x):\n",
        "        x = self.pool1(F.relu(self.conv3(F.relu(self.conv2(F.relu(self.conv1(x)))))))\n",
        "        x = self.pool2(F.relu(self.conv5(F.relu(self.conv4(x)))))\n",
        "        x = F.relu(self.conv7(F.relu(self.conv6(x))))\n",
        "        x = (self.conv8(x))\n",
        "        x = x.view(-1, 10)\n",
        "        return F.log_softmax(x)     \n",
        "\n",
        "'''\n",
        "\n",
        "class Net(nn.Module):\n",
        "    def __init__(self):\n",
        "        super(Net, self).__init__()\n",
        "        self.conv1 = nn.Conv2d(1, 16, 3, padding=1) #input -? OUtput? RF\n",
        "        nn.BatchNorm2d(16)\n",
        "        self.conv2 = nn.Conv2d(16, 16, 3, padding=1)\n",
        "        nn.BatchNorm2d(16)\n",
        "        #nn.Dropout(0.05)\n",
        "        self.conv3 = nn.Conv2d(16, 32, 3, padding=1)\n",
        "        nn.BatchNorm2d(32)\n",
        "        nn.Dropout(0.25)\n",
        "        self.pool1 = nn.MaxPool2d(2, 2)\n",
        "        self.conv4 = nn.Conv2d(32, 8, 1, padding=1)\n",
        "        nn.BatchNorm2d(8)\n",
        "        self.conv5 = nn.Conv2d(8, 16, 3, padding=1)\n",
        "        nn.BatchNorm2d(16)\n",
        "        #nn.Dropout(0.05)\n",
        "        self.conv6 = nn.Conv2d(16, 16, 3) ## 32\n",
        "        nn.BatchNorm2d(16)\n",
        "        nn.Dropout(0.25)\n",
        "        self.pool2 = nn.MaxPool2d(2, 2)\n",
        "        #nn.Dropout(0.05)\n",
        "        self.conv7 = nn.Conv2d(16, 8, 1)\n",
        "        nn.BatchNorm2d(8)\n",
        "        self.conv8 = nn.Conv2d(8, 16, 3)\n",
        "        nn.BatchNorm2d(16)\n",
        "        nn.Dropout(0.25)\n",
        "        self.conv9 = nn.Conv2d(16, 32, 3)\n",
        "        nn.BatchNorm2d(16)\n",
        "        self.conv10 = nn.Conv2d(32, 10, 3)\n",
        "\n",
        "    def forward(self, x):\n",
        "        x = self.pool1(F.relu(self.conv3(F.relu(self.conv2(F.relu(self.conv1(x)))))))\n",
        "        x = self.pool2(F.relu(self.conv6(F.relu(self.conv5(F.relu(self.conv4(x)))))))\n",
        "        x = F.relu(self.conv9(F.relu(self.conv8(F.relu(self.conv7(x))))))\n",
        "        x = (self.conv10(x))\n",
        "        x = x.view(-1, 10)\n",
        "        return F.log_softmax(x)     "
      ],
      "execution_count": 40,
      "outputs": []
    },
    {
      "cell_type": "code",
      "metadata": {
        "colab_type": "code",
        "id": "xdydjYTZFyi3",
        "colab": {
          "base_uri": "https://localhost:8080/",
          "height": 486
        },
        "outputId": "61f12005-3999-4c4f-e3b0-4e5e9d77d478"
      },
      "source": [
        "!pip install torchsummary\n",
        "from torchsummary import summary\n",
        "use_cuda = torch.cuda.is_available()\n",
        "device = torch.device(\"cuda\" if use_cuda else \"cpu\")\n",
        "model = Net().to(device)\n",
        "summary(model, input_size=(1, 28, 28))"
      ],
      "execution_count": 41,
      "outputs": [
        {
          "output_type": "stream",
          "text": [
            "Requirement already satisfied: torchsummary in /usr/local/lib/python3.6/dist-packages (1.5.1)\n",
            "----------------------------------------------------------------\n",
            "        Layer (type)               Output Shape         Param #\n",
            "================================================================\n",
            "            Conv2d-1           [-1, 16, 28, 28]             160\n",
            "            Conv2d-2           [-1, 16, 28, 28]           2,320\n",
            "            Conv2d-3           [-1, 32, 28, 28]           4,640\n",
            "         MaxPool2d-4           [-1, 32, 14, 14]               0\n",
            "            Conv2d-5            [-1, 8, 16, 16]             264\n",
            "            Conv2d-6           [-1, 16, 16, 16]           1,168\n",
            "            Conv2d-7           [-1, 16, 14, 14]           2,320\n",
            "         MaxPool2d-8             [-1, 16, 7, 7]               0\n",
            "            Conv2d-9              [-1, 8, 7, 7]             136\n",
            "           Conv2d-10             [-1, 16, 5, 5]           1,168\n",
            "           Conv2d-11             [-1, 32, 3, 3]           4,640\n",
            "           Conv2d-12             [-1, 10, 1, 1]           2,890\n",
            "================================================================\n",
            "Total params: 19,706\n",
            "Trainable params: 19,706\n",
            "Non-trainable params: 0\n",
            "----------------------------------------------------------------\n",
            "Input size (MB): 0.00\n",
            "Forward/backward pass size (MB): 0.52\n",
            "Params size (MB): 0.08\n",
            "Estimated Total Size (MB): 0.59\n",
            "----------------------------------------------------------------\n"
          ],
          "name": "stdout"
        },
        {
          "output_type": "stream",
          "text": [
            "/usr/local/lib/python3.6/dist-packages/ipykernel_launcher.py:208: UserWarning: Implicit dimension choice for log_softmax has been deprecated. Change the call to include dim=X as an argument.\n"
          ],
          "name": "stderr"
        }
      ]
    },
    {
      "cell_type": "code",
      "metadata": {
        "id": "DqTWLaM5GHgH",
        "colab_type": "code",
        "colab": {}
      },
      "source": [
        "\n",
        "\n",
        "torch.manual_seed(1)\n",
        "batch_size = 128 #128 #64\n",
        "\n",
        "kwargs = {'num_workers': 1, 'pin_memory': True} if use_cuda else {}\n",
        "train_loader = torch.utils.data.DataLoader(\n",
        "    datasets.MNIST('../data', train=True, download=True,\n",
        "                    transform=transforms.Compose([\n",
        "                        transforms.ToTensor(),\n",
        "                        transforms.Normalize((0.1307,), (0.3081,))\n",
        "                    ])),\n",
        "    batch_size=batch_size, shuffle=True, **kwargs)\n",
        "test_loader = torch.utils.data.DataLoader(\n",
        "    datasets.MNIST('../data', train=False, transform=transforms.Compose([\n",
        "                        transforms.ToTensor(),\n",
        "                        transforms.Normalize((0.1307,), (0.3081,))\n",
        "                    ])),\n",
        "    batch_size=batch_size, shuffle=True, **kwargs)\n"
      ],
      "execution_count": 42,
      "outputs": []
    },
    {
      "cell_type": "code",
      "metadata": {
        "id": "8fDefDhaFlwH",
        "colab_type": "code",
        "colab": {}
      },
      "source": [
        "from tqdm import tqdm\n",
        "def train(model, device, train_loader, optimizer, epoch):\n",
        "    model.train()\n",
        "    pbar = tqdm(train_loader)\n",
        "    for batch_idx, (data, target) in enumerate(pbar):\n",
        "        data, target = data.to(device), target.to(device)\n",
        "        optimizer.zero_grad()\n",
        "        output = model(data)\n",
        "        loss = F.nll_loss(output, target)\n",
        "        loss.backward()\n",
        "        optimizer.step()\n",
        "        pbar.set_description(desc= f'loss={loss.item()} batch_id={batch_idx}')\n",
        "\n",
        "    #train_loss /= len(train_loader.dataset)\n",
        "\n",
        "    #print('\\nTrain set: Average loss: {:.4f}, Accuracy: {}/{} ({:.4f}%)\\n'.format(\n",
        "        #train_loss, correct, len(train_loader.dataset),\n",
        "        #100. * correct / len(train_loader.dataset)))    \n",
        "\n",
        "\n",
        "def test(model, device, test_loader):\n",
        "    model.eval()\n",
        "    test_loss = 0\n",
        "    correct = 0\n",
        "    with torch.no_grad():\n",
        "        for data, target in test_loader:\n",
        "            data, target = data.to(device), target.to(device)\n",
        "            output = model(data)\n",
        "            test_loss += F.nll_loss(output, target, reduction='sum').item()  # sum up batch loss\n",
        "            pred = output.argmax(dim=1, keepdim=True)  # get the index of the max log-probability\n",
        "            correct += pred.eq(target.view_as(pred)).sum().item()\n",
        "\n",
        "    test_loss /= len(test_loader.dataset)\n",
        "\n",
        "    print('\\nTest set: Average loss: {:.4f}, Accuracy: {}/{} ({:.4f}%)\\n'.format(\n",
        "        test_loss, correct, len(test_loader.dataset),\n",
        "        100. * correct / len(test_loader.dataset)))"
      ],
      "execution_count": 43,
      "outputs": []
    },
    {
      "cell_type": "code",
      "metadata": {
        "id": "MMWbLWO6FuHb",
        "colab_type": "code",
        "colab": {
          "base_uri": "https://localhost:8080/",
          "height": 1000
        },
        "outputId": "6cb30b96-53af-405d-9228-380b502cfc97"
      },
      "source": [
        "\n",
        "model = Net().to(device)\n",
        "optimizer = optim.SGD(model.parameters(), lr=0.01, momentum=0.9) # lr= 0.01, momentum = 0.9\n",
        "for epoch in range(1, 20):\n",
        "    print(\"epoch: \", epoch)\n",
        "    train(model, device, train_loader, optimizer, epoch)\n",
        "    test(model, device, test_loader)"
      ],
      "execution_count": 44,
      "outputs": [
        {
          "output_type": "stream",
          "text": [
            "\r  0%|          | 0/469 [00:00<?, ?it/s]"
          ],
          "name": "stderr"
        },
        {
          "output_type": "stream",
          "text": [
            "epoch:  1\n"
          ],
          "name": "stdout"
        },
        {
          "output_type": "stream",
          "text": [
            "/usr/local/lib/python3.6/dist-packages/ipykernel_launcher.py:208: UserWarning: Implicit dimension choice for log_softmax has been deprecated. Change the call to include dim=X as an argument.\n",
            "loss=2.3016698360443115 batch_id=468: 100%|██████████| 469/469 [00:21<00:00, 21.48it/s]\n",
            "  0%|          | 0/469 [00:00<?, ?it/s]"
          ],
          "name": "stderr"
        },
        {
          "output_type": "stream",
          "text": [
            "\n",
            "Test set: Average loss: 2.3011, Accuracy: 1135/10000 (11.3500%)\n",
            "\n",
            "epoch:  2\n"
          ],
          "name": "stdout"
        },
        {
          "output_type": "stream",
          "text": [
            "loss=2.3056280612945557 batch_id=468: 100%|██████████| 469/469 [00:21<00:00, 21.61it/s]\n",
            "  0%|          | 0/469 [00:00<?, ?it/s]"
          ],
          "name": "stderr"
        },
        {
          "output_type": "stream",
          "text": [
            "\n",
            "Test set: Average loss: 2.3010, Accuracy: 1135/10000 (11.3500%)\n",
            "\n",
            "epoch:  3\n"
          ],
          "name": "stdout"
        },
        {
          "output_type": "stream",
          "text": [
            "loss=2.2997148036956787 batch_id=468: 100%|██████████| 469/469 [00:21<00:00, 21.60it/s]\n",
            "  0%|          | 0/469 [00:00<?, ?it/s]"
          ],
          "name": "stderr"
        },
        {
          "output_type": "stream",
          "text": [
            "\n",
            "Test set: Average loss: 2.3011, Accuracy: 1135/10000 (11.3500%)\n",
            "\n",
            "epoch:  4\n"
          ],
          "name": "stdout"
        },
        {
          "output_type": "stream",
          "text": [
            "loss=2.313037633895874 batch_id=468: 100%|██████████| 469/469 [00:21<00:00, 21.53it/s]\n",
            "  0%|          | 0/469 [00:00<?, ?it/s]"
          ],
          "name": "stderr"
        },
        {
          "output_type": "stream",
          "text": [
            "\n",
            "Test set: Average loss: 2.3012, Accuracy: 1135/10000 (11.3500%)\n",
            "\n",
            "epoch:  5\n"
          ],
          "name": "stdout"
        },
        {
          "output_type": "stream",
          "text": [
            "loss=2.30265474319458 batch_id=468: 100%|██████████| 469/469 [00:21<00:00, 21.45it/s]\n",
            "  0%|          | 0/469 [00:00<?, ?it/s]"
          ],
          "name": "stderr"
        },
        {
          "output_type": "stream",
          "text": [
            "\n",
            "Test set: Average loss: 2.3008, Accuracy: 1135/10000 (11.3500%)\n",
            "\n",
            "epoch:  6\n"
          ],
          "name": "stdout"
        },
        {
          "output_type": "stream",
          "text": [
            "loss=2.294193744659424 batch_id=468: 100%|██████████| 469/469 [00:21<00:00, 21.40it/s]\n",
            "  0%|          | 0/469 [00:00<?, ?it/s]"
          ],
          "name": "stderr"
        },
        {
          "output_type": "stream",
          "text": [
            "\n",
            "Test set: Average loss: 2.3005, Accuracy: 1135/10000 (11.3500%)\n",
            "\n",
            "epoch:  7\n"
          ],
          "name": "stdout"
        },
        {
          "output_type": "stream",
          "text": [
            "loss=0.16382277011871338 batch_id=468: 100%|██████████| 469/469 [00:21<00:00, 21.38it/s]\n",
            "  0%|          | 0/469 [00:00<?, ?it/s]"
          ],
          "name": "stderr"
        },
        {
          "output_type": "stream",
          "text": [
            "\n",
            "Test set: Average loss: 0.1450, Accuracy: 9563/10000 (95.6300%)\n",
            "\n",
            "epoch:  8\n"
          ],
          "name": "stdout"
        },
        {
          "output_type": "stream",
          "text": [
            "loss=0.07913067191839218 batch_id=468: 100%|██████████| 469/469 [00:22<00:00, 21.27it/s]\n",
            "  0%|          | 0/469 [00:00<?, ?it/s]"
          ],
          "name": "stderr"
        },
        {
          "output_type": "stream",
          "text": [
            "\n",
            "Test set: Average loss: 0.0810, Accuracy: 9744/10000 (97.4400%)\n",
            "\n",
            "epoch:  9\n"
          ],
          "name": "stdout"
        },
        {
          "output_type": "stream",
          "text": [
            "loss=0.04301977530121803 batch_id=468: 100%|██████████| 469/469 [00:21<00:00, 21.62it/s]\n",
            "  0%|          | 0/469 [00:00<?, ?it/s]"
          ],
          "name": "stderr"
        },
        {
          "output_type": "stream",
          "text": [
            "\n",
            "Test set: Average loss: 0.0681, Accuracy: 9769/10000 (97.6900%)\n",
            "\n",
            "epoch:  10\n"
          ],
          "name": "stdout"
        },
        {
          "output_type": "stream",
          "text": [
            "loss=0.017890119925141335 batch_id=468: 100%|██████████| 469/469 [00:21<00:00, 21.64it/s]\n",
            "  0%|          | 0/469 [00:00<?, ?it/s]"
          ],
          "name": "stderr"
        },
        {
          "output_type": "stream",
          "text": [
            "\n",
            "Test set: Average loss: 0.0581, Accuracy: 9811/10000 (98.1100%)\n",
            "\n",
            "epoch:  11\n"
          ],
          "name": "stdout"
        },
        {
          "output_type": "stream",
          "text": [
            "loss=0.08563297241926193 batch_id=468: 100%|██████████| 469/469 [00:21<00:00, 21.58it/s]\n",
            "  0%|          | 0/469 [00:00<?, ?it/s]"
          ],
          "name": "stderr"
        },
        {
          "output_type": "stream",
          "text": [
            "\n",
            "Test set: Average loss: 0.0617, Accuracy: 9812/10000 (98.1200%)\n",
            "\n",
            "epoch:  12\n"
          ],
          "name": "stdout"
        },
        {
          "output_type": "stream",
          "text": [
            "loss=0.029518557712435722 batch_id=468: 100%|██████████| 469/469 [00:21<00:00, 21.60it/s]\n",
            "  0%|          | 0/469 [00:00<?, ?it/s]"
          ],
          "name": "stderr"
        },
        {
          "output_type": "stream",
          "text": [
            "\n",
            "Test set: Average loss: 0.0419, Accuracy: 9872/10000 (98.7200%)\n",
            "\n",
            "epoch:  13\n"
          ],
          "name": "stdout"
        },
        {
          "output_type": "stream",
          "text": [
            "loss=0.005140118766576052 batch_id=468: 100%|██████████| 469/469 [00:21<00:00, 21.64it/s]\n",
            "  0%|          | 0/469 [00:00<?, ?it/s]"
          ],
          "name": "stderr"
        },
        {
          "output_type": "stream",
          "text": [
            "\n",
            "Test set: Average loss: 0.0381, Accuracy: 9870/10000 (98.7000%)\n",
            "\n",
            "epoch:  14\n"
          ],
          "name": "stdout"
        },
        {
          "output_type": "stream",
          "text": [
            "loss=0.00960999634116888 batch_id=468: 100%|██████████| 469/469 [00:22<00:00, 21.30it/s]\n",
            "  0%|          | 0/469 [00:00<?, ?it/s]"
          ],
          "name": "stderr"
        },
        {
          "output_type": "stream",
          "text": [
            "\n",
            "Test set: Average loss: 0.0370, Accuracy: 9884/10000 (98.8400%)\n",
            "\n",
            "epoch:  15\n"
          ],
          "name": "stdout"
        },
        {
          "output_type": "stream",
          "text": [
            "loss=0.004684649873524904 batch_id=468: 100%|██████████| 469/469 [00:21<00:00, 21.62it/s]\n",
            "  0%|          | 0/469 [00:00<?, ?it/s]"
          ],
          "name": "stderr"
        },
        {
          "output_type": "stream",
          "text": [
            "\n",
            "Test set: Average loss: 0.0424, Accuracy: 9862/10000 (98.6200%)\n",
            "\n",
            "epoch:  16\n"
          ],
          "name": "stdout"
        },
        {
          "output_type": "stream",
          "text": [
            "loss=0.02559077739715576 batch_id=468: 100%|██████████| 469/469 [00:21<00:00, 21.82it/s]\n",
            "  0%|          | 0/469 [00:00<?, ?it/s]"
          ],
          "name": "stderr"
        },
        {
          "output_type": "stream",
          "text": [
            "\n",
            "Test set: Average loss: 0.0474, Accuracy: 9846/10000 (98.4600%)\n",
            "\n",
            "epoch:  17\n"
          ],
          "name": "stdout"
        },
        {
          "output_type": "stream",
          "text": [
            "loss=0.030718877911567688 batch_id=468: 100%|██████████| 469/469 [00:21<00:00, 21.84it/s]\n",
            "  0%|          | 0/469 [00:00<?, ?it/s]"
          ],
          "name": "stderr"
        },
        {
          "output_type": "stream",
          "text": [
            "\n",
            "Test set: Average loss: 0.0347, Accuracy: 9889/10000 (98.8900%)\n",
            "\n",
            "epoch:  18\n"
          ],
          "name": "stdout"
        },
        {
          "output_type": "stream",
          "text": [
            "loss=0.02527766488492489 batch_id=468: 100%|██████████| 469/469 [00:21<00:00, 21.93it/s]\n",
            "  0%|          | 0/469 [00:00<?, ?it/s]"
          ],
          "name": "stderr"
        },
        {
          "output_type": "stream",
          "text": [
            "\n",
            "Test set: Average loss: 0.0540, Accuracy: 9837/10000 (98.3700%)\n",
            "\n",
            "epoch:  19\n"
          ],
          "name": "stdout"
        },
        {
          "output_type": "stream",
          "text": [
            "loss=0.022471360862255096 batch_id=468: 100%|██████████| 469/469 [00:21<00:00, 21.82it/s]\n"
          ],
          "name": "stderr"
        },
        {
          "output_type": "stream",
          "text": [
            "\n",
            "Test set: Average loss: 0.0334, Accuracy: 9885/10000 (98.8500%)\n",
            "\n"
          ],
          "name": "stdout"
        }
      ]
    },
    {
      "cell_type": "code",
      "metadata": {
        "id": "So5uk4EkHW6R",
        "colab_type": "code",
        "colab": {}
      },
      "source": [
        ""
      ],
      "execution_count": null,
      "outputs": []
    }
  ]
}